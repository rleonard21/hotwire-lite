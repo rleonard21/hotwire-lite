{
 "cells": [
  {
   "cell_type": "code",
   "execution_count": 75,
   "id": "745ff7ff-b846-41fd-9af7-0a3d0d2919b9",
   "metadata": {},
   "outputs": [],
   "source": [
    "class Hotwire:\n",
    "    def __init__(self, voltage, power):\n",
    "        self.v = voltage\n",
    "        self.p = power\n",
    "        self.i = self.p / self.v\n",
    "        \n",
    "        self.summary()\n",
    "        \n",
    "    def summary(self):\n",
    "        print(\"HOTWIRE SYSTEM SUMMARY:\")\n",
    "        print(\"    v    = {}v\\n    imax = {}A\\n    psys = {}w\\n\".format(self.v, round(self.i,2), self.p))"
   ]
  },
  {
   "cell_type": "code",
   "execution_count": 88,
   "id": "1e79a982-6804-48fa-bb8d-24a7bffa0233",
   "metadata": {},
   "outputs": [],
   "source": [
    "class Mosfet:\n",
    "    def __init__(self, name, rdson, cw, hotwire):\n",
    "        self.name = name\n",
    "        self.rdson = rdson\n",
    "        self.cw = cw\n",
    "        self.system = hotwire\n",
    "        \n",
    "        self.summary()\n",
    "        \n",
    "    def power(self):\n",
    "        return self.system.i ** 2 * self.rdson\n",
    "    \n",
    "    def temperature_rise(self):\n",
    "        return self.power() * self.cw\n",
    "    \n",
    "    def summary(self):\n",
    "        print(\"SUMMARY for {} at {}w system power\".format(self.name, self.system.p))\n",
    "        print(\"    max power dissipation: {}w\".format(round(self.power(), 2)))\n",
    "        print(\"    max temperature rise:  {}c\".format(round(self.temperature_rise(), 1)))\n",
    "        print()"
   ]
  },
  {
   "cell_type": "code",
   "execution_count": 89,
   "id": "94e97d7a-936b-46f9-8a6d-6ffad7fe8adb",
   "metadata": {},
   "outputs": [
    {
     "name": "stdout",
     "output_type": "stream",
     "text": [
      "HOTWIRE SYSTEM SUMMARY:\n",
      "    v    = 12v\n",
      "    imax = 2.92A\n",
      "    psys = 35w\n",
      "\n",
      "SUMMARY for TSM180N03CS at 35w system power\n",
      "    max power dissipation: 0.24w\n",
      "    max temperature rise:  11.9c\n",
      "\n",
      "SUMMARY for DMN3030LFG at 35w system power\n",
      "    max power dissipation: 0.23w\n",
      "    max temperature rise:  12.9c\n",
      "\n",
      "SUMMARY for DMN3016LPS at 35w system power\n",
      "    max power dissipation: 0.14w\n",
      "    max temperature rise:  6.3c\n",
      "\n",
      "SUMMARY for RQ3E100BN at 35w system power\n",
      "    max power dissipation: 0.13w\n",
      "    max temperature rise:  8.0c\n",
      "\n"
     ]
    }
   ],
   "source": [
    "h = Hotwire(voltage=12, power=35)\n",
    "m = [\n",
    "    Mosfet(name=\"TSM180N03CS\", rdson=0.028, cw=50,  hotwire=h),\n",
    "    Mosfet(name=\"DMN3030LFG\",  rdson=0.027, cw=56,  hotwire=h),\n",
    "    Mosfet(name=\"DMN3016LPS\",  rdson=0.016, cw=46,  hotwire=h),\n",
    "    Mosfet(name=\"RQ3E100BN\",   rdson=0.015, cw=63,  hotwire=h)\n",
    "]"
   ]
  },
  {
   "cell_type": "code",
   "execution_count": null,
   "id": "5ca0aa6e-a449-488b-97c3-569ff010dbb4",
   "metadata": {},
   "outputs": [],
   "source": []
  }
 ],
 "metadata": {
  "kernelspec": {
   "display_name": "Python 3 (ipykernel)",
   "language": "python",
   "name": "python3"
  },
  "language_info": {
   "codemirror_mode": {
    "name": "ipython",
    "version": 3
   },
   "file_extension": ".py",
   "mimetype": "text/x-python",
   "name": "python",
   "nbconvert_exporter": "python",
   "pygments_lexer": "ipython3",
   "version": "3.9.7"
  }
 },
 "nbformat": 4,
 "nbformat_minor": 5
}
